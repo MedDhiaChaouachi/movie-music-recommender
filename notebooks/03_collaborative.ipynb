{
 "cells": [
  {
   "cell_type": "markdown",
   "id": "0cf2c0d9",
   "metadata": {},
   "source": [
    "Load Data"
   ]
  },
  {
   "cell_type": "code",
   "execution_count": null,
   "id": "c7d86a17",
   "metadata": {},
   "outputs": [],
   "source": [
    "from surprise import Dataset, SVD\n",
    "from surprise.model_selection import train_test_split, cross_validate\n",
    "\n",
    "data = Dataset.load_builtin(\"ml-100k\")  # built-in MovieLens\n",
    "trainset, testset = train_test_split(data, test_size=0.2)\n"
   ]
  },
  {
   "cell_type": "markdown",
   "id": "f52f3bb0",
   "metadata": {},
   "source": [
    "Train Model"
   ]
  },
  {
   "cell_type": "code",
   "execution_count": null,
   "id": "4d1e481b",
   "metadata": {},
   "outputs": [],
   "source": [
    "algo = SVD()\n",
    "algo.fit(trainset)\n"
   ]
  },
  {
   "cell_type": "markdown",
   "id": "1b125bdd",
   "metadata": {},
   "source": [
    "Evaluate"
   ]
  },
  {
   "cell_type": "code",
   "execution_count": null,
   "id": "08c4747e",
   "metadata": {},
   "outputs": [],
   "source": [
    "from surprise import accuracy\n",
    "predictions = algo.test(testset)\n",
    "accuracy.rmse(predictions)\n"
   ]
  },
  {
   "cell_type": "markdown",
   "id": "ab0b1e47",
   "metadata": {},
   "source": [
    "Make Predictions"
   ]
  },
  {
   "cell_type": "code",
   "execution_count": null,
   "id": "2ea7c634",
   "metadata": {},
   "outputs": [],
   "source": [
    "algo.predict(uid=196, iid=302)  # Predict rating for user 196 on movie 302\n"
   ]
  }
 ],
 "metadata": {
  "kernelspec": {
   "display_name": "venv",
   "language": "python",
   "name": "python3"
  },
  "language_info": {
   "name": "python",
   "version": "3.13.6"
  }
 },
 "nbformat": 4,
 "nbformat_minor": 5
}
