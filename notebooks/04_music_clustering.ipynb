{
 "cells": [
  {
   "cell_type": "markdown",
   "id": "f21f5eec",
   "metadata": {},
   "source": [
    "Load Data"
   ]
  },
  {
   "cell_type": "code",
   "execution_count": null,
   "id": "9cb846e8",
   "metadata": {},
   "outputs": [],
   "source": [
    "spotify = pd.read_csv(\"../data/spotify.csv\")\n",
    "spotify[['danceability','energy','tempo']].head()\n"
   ]
  },
  {
   "cell_type": "markdown",
   "id": "f0121aee",
   "metadata": {},
   "source": [
    "Feature Selection"
   ]
  },
  {
   "cell_type": "code",
   "execution_count": null,
   "id": "ff1eaf09",
   "metadata": {},
   "outputs": [],
   "source": [
    "from sklearn.preprocessing import StandardScaler\n",
    "X = spotify[['danceability','energy','tempo']]\n",
    "X_scaled = StandardScaler().fit_transform(X)\n"
   ]
  },
  {
   "cell_type": "markdown",
   "id": "19d2346e",
   "metadata": {},
   "source": [
    "KMeans Clustering"
   ]
  },
  {
   "cell_type": "code",
   "execution_count": null,
   "id": "56cfc5e8",
   "metadata": {},
   "outputs": [],
   "source": [
    "from sklearn.cluster import KMeans\n",
    "kmeans = KMeans(n_clusters=10, random_state=42)\n",
    "spotify['cluster'] = kmeans.fit_predict(X_scaled)\n"
   ]
  },
  {
   "cell_type": "markdown",
   "id": "67998f88",
   "metadata": {},
   "source": [
    "Cluster Visualization"
   ]
  },
  {
   "cell_type": "code",
   "execution_count": null,
   "id": "837ac376",
   "metadata": {},
   "outputs": [],
   "source": [
    "from sklearn.decomposition import PCA\n",
    "import matplotlib.pyplot as plt\n",
    "\n",
    "pca = PCA(2)\n",
    "reduced = pca.fit_transform(X_scaled)\n",
    "plt.scatter(reduced[:,0], reduced[:,1], c=spotify['cluster'], cmap='tab10')\n",
    "plt.title(\"Spotify Track Clusters\")\n",
    "plt.show()\n"
   ]
  },
  {
   "cell_type": "markdown",
   "id": "5bf28e7c",
   "metadata": {},
   "source": [
    "Inspect Recommendations"
   ]
  },
  {
   "cell_type": "code",
   "execution_count": null,
   "id": "faa9f9b6",
   "metadata": {},
   "outputs": [],
   "source": [
    "def recommend_music(track_name):\n",
    "    cluster = spotify.loc[spotify['name']==track_name, 'cluster'].values[0]\n",
    "    recs = spotify[spotify['cluster']==cluster].sample(5)\n",
    "    return recs[['name','artists']]\n",
    "\n",
    "recommend_music(\"Shape of You\")\n"
   ]
  }
 ],
 "metadata": {
  "kernelspec": {
   "display_name": "venv",
   "language": "python",
   "name": "python3"
  },
  "language_info": {
   "name": "python",
   "version": "3.13.6"
  }
 },
 "nbformat": 4,
 "nbformat_minor": 5
}
