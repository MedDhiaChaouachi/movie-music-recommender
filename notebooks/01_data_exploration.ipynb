{
 "cells": [
  {
   "cell_type": "markdown",
   "id": "028d5a1b",
   "metadata": {},
   "source": [
    "Imports & Load Data"
   ]
  },
  {
   "cell_type": "code",
   "execution_count": null,
   "id": "b0544ea6",
   "metadata": {},
   "outputs": [],
   "source": [
    "import pandas as pd\n",
    "import matplotlib.pyplot as plt\n",
    "import seaborn as sns\n",
    "\n",
    "movies = pd.read_csv(\"../data/movies.csv\")\n",
    "spotify = pd.read_csv(\"../data/spotify.csv\")\n",
    "\n",
    "movies.head()\n",
    "spotify.head()"
   ]
  },
  {
   "cell_type": "markdown",
   "id": "b0f16346",
   "metadata": {},
   "source": [
    "Data Overview"
   ]
  },
  {
   "cell_type": "code",
   "execution_count": null,
   "id": "f06db56a",
   "metadata": {},
   "outputs": [],
   "source": [
    "movies.info()\n",
    "spotify.info()\n"
   ]
  },
  {
   "cell_type": "markdown",
   "id": "35844aa7",
   "metadata": {},
   "source": [
    "Missing Values"
   ]
  },
  {
   "cell_type": "code",
   "execution_count": null,
   "id": "521896c7",
   "metadata": {},
   "outputs": [],
   "source": [
    "movies.isnull().sum()\n",
    "spotify.isnull().sum()\n"
   ]
  }
 ],
 "metadata": {
  "kernelspec": {
   "display_name": "venv",
   "language": "python",
   "name": "python3"
  },
  "language_info": {
   "name": "python",
   "version": "3.13.6"
  }
 },
 "nbformat": 4,
 "nbformat_minor": 5
}
